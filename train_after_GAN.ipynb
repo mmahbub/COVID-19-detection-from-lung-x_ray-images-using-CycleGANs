{
 "cells": [
  {
   "cell_type": "markdown",
   "metadata": {
    "colab_type": "text",
    "id": "-dtOzHyQbFTR"
   },
   "source": [
    "### Train a model on the balanced dataset"
   ]
  },
  {
   "cell_type": "code",
   "execution_count": 0,
   "metadata": {
    "colab": {},
    "colab_type": "code",
    "id": "FBbPnWmK5z5W"
   },
   "outputs": [],
   "source": [
    "# # Run once to install\n",
    "# !pip install image-classifiers==0.2.2\n",
    "# !pip install image-classifiers==1.0.0b1\n",
    "# !pip install imgaug"
   ]
  },
  {
   "cell_type": "code",
   "execution_count": 0,
   "metadata": {
    "colab": {},
    "colab_type": "code",
    "id": "daGPog_pxJuA"
   },
   "outputs": [],
   "source": [
    "# import keras\n",
    "# print(keras.__version__)"
   ]
  },
  {
   "cell_type": "code",
   "execution_count": 1,
   "metadata": {
    "colab": {
     "base_uri": "https://localhost:8080/",
     "height": 102
    },
    "colab_type": "code",
    "executionInfo": {
     "elapsed": 8609,
     "status": "ok",
     "timestamp": 1588450336871,
     "user": {
      "displayName": "Maria Mahbub",
      "photoUrl": "https://lh3.googleusercontent.com/a-/AOh14GiQyYlcc7Ts8pou2N_rxNtZawQminV0SA-tjYzK=s64",
      "userId": "18117529587993011390"
     },
     "user_tz": 240
    },
    "id": "Dj37DNKQdEIx",
    "outputId": "2121e575-76d4-491c-fecc-75234614a7ae",
    "scrolled": true
   },
   "outputs": [
    {
     "name": "stdout",
     "output_type": "stream",
     "text": [
      "TensorFlow 1.x selected.\n"
     ]
    },
    {
     "name": "stderr",
     "output_type": "stream",
     "text": [
      "Using TensorFlow backend.\n"
     ]
    },
    {
     "name": "stdout",
     "output_type": "stream",
     "text": [
      "1.15.2\n",
      "2.3.1\n"
     ]
    },
    {
     "data": {
      "text/plain": [
       "'/device:GPU:0'"
      ]
     },
     "execution_count": 1,
     "metadata": {
      "tags": []
     },
     "output_type": "execute_result"
    }
   ],
   "source": [
    "import sys\n",
    "# !{sys.executable} -m pip install tensorflow==1.13.1\n",
    "# tensorflow==1.13.1\n",
    "# keras==2.2.4\n",
    "# !pip install git+https://www.github.com/keras-team/keras-contrib.git\n",
    "\n",
    "%tensorflow_version 1.x\n",
    "\n",
    "import tensorflow\n",
    "import keras\n",
    "print(tensorflow.__version__)\n",
    "print(keras.__version__)\n",
    "\n",
    "import tensorflow as tf\n",
    "tf.test.gpu_device_name()\n"
   ]
  },
  {
   "cell_type": "code",
   "execution_count": 1,
   "metadata": {
    "colab": {
     "base_uri": "https://localhost:8080/",
     "height": 122
    },
    "colab_type": "code",
    "executionInfo": {
     "elapsed": 26073,
     "status": "ok",
     "timestamp": 1588450364709,
     "user": {
      "displayName": "Maria Mahbub",
      "photoUrl": "https://lh3.googleusercontent.com/a-/AOh14GiQyYlcc7Ts8pou2N_rxNtZawQminV0SA-tjYzK=s64",
      "userId": "18117529587993011390"
     },
     "user_tz": 240
    },
    "id": "tW1UHVwSdqQF",
    "outputId": "1672956c-1846-414b-907a-c792088e6173"
   },
   "outputs": [],
   "source": [
    "# from google.colab import drive\n",
    "# drive.mount('/content/gdrive')\n"
   ]
  },
  {
   "cell_type": "code",
   "execution_count": 3,
   "metadata": {
    "colab": {
     "base_uri": "https://localhost:8080/",
     "height": 139
    },
    "colab_type": "code",
    "executionInfo": {
     "elapsed": 49711,
     "status": "ok",
     "timestamp": 1588450429934,
     "user": {
      "displayName": "Maria Mahbub",
      "photoUrl": "https://lh3.googleusercontent.com/a-/AOh14GiQyYlcc7Ts8pou2N_rxNtZawQminV0SA-tjYzK=s64",
      "userId": "18117529587993011390"
     },
     "user_tz": 240
    },
    "id": "T3jL0aXh53ml",
    "outputId": "cc3739e2-2138-49dc-ed8a-fb73024454f9"
   },
   "outputs": [
    {
     "name": "stdout",
     "output_type": "stream",
     "text": [
      "Keras Version 2.3.1\n",
      "Tensorflow Version 1.15.2\n",
      "['/device:GPU:0']\n",
      "['x_train.npy', 'y_train.npy', 'x_train_gan.npy', 'y_train_gan.npy', 'y_test.npy', 'x_test.npy', 'x_upsampled.npy', 'y_upsampled.npy', 'x_train_gan_p.npy', 'y_train_gan_p.npy', 'y_upsampled_.npy', 'x_upsampled_.npy', 'testX.npy', 'testY.npy']\n",
      "Shuffling data\n",
      "Dataset sample size : (3219, 256, 256, 3) (3219, 3) (580, 256, 256, 3) (580, 3)\n"
     ]
    }
   ],
   "source": [
    "# Import libs\n",
    "import os \n",
    "import time\n",
    "import cv2\n",
    "import numpy as np\n",
    "import matplotlib.pyplot as plt\n",
    "from keras import optimizers\n",
    "import keras\n",
    "import tensorflow as tf\n",
    "import keras.backend as K\n",
    "from sklearn.metrics import confusion_matrix, classification_report\n",
    "from keras.models import load_model\n",
    "from keras.models import Sequential\n",
    "from keras.regularizers import l2\n",
    "from keras.applications.vgg16 import VGG16\n",
    "from keras.preprocessing.image import ImageDataGenerator\n",
    "from keras.callbacks import ModelCheckpoint, CSVLogger, EarlyStopping, ReduceLROnPlateau\n",
    "from sklearn.metrics import accuracy_score\n",
    "from sklearn.metrics import confusion_matrix, classification_report\n",
    "from sklearn.metrics import roc_curve, auc, roc_auc_score\n",
    "import matplotlib.pyplot as plt\n",
    "from tqdm import tqdm\n",
    "from keras.utils import np_utils\n",
    "from imgaug import augmenters as iaa    \n",
    "import itertools\n",
    "\n",
    "np.random.seed(42)\n",
    "\n",
    "# Print version\n",
    "print(\"Keras Version\", keras.__version__)\n",
    "print(\"Tensorflow Version\", tf.__version__)\n",
    "\n",
    "\n",
    "# GPU test\n",
    "from tensorflow.python.client import device_lib\n",
    "def get_available_gpus():\n",
    "    local_device_protos = device_lib.list_local_devices()\n",
    "    return [x.name for x in local_device_protos if x.device_type == 'GPU']\n",
    "\n",
    "print(get_available_gpus())\n",
    "\n",
    "# Get compute specs\n",
    "from tensorflow.python.client import device_lib\n",
    "device_lib.list_local_devices()\n",
    "\n",
    "\n",
    "\n",
    "# Helpers functions\n",
    "\n",
    "def create_directory(directory):\n",
    "    '''\n",
    "    Creates a new folder in the specified directory if the folder doesn't exist.\n",
    "    INPUT\n",
    "        directory: Folder to be created, called as \"folder/\".\n",
    "    OUTPUT\n",
    "        New folder in the current directory.\n",
    "    '''\n",
    "    if not os.path.exists(directory):\n",
    "        os.makedirs(directory)\n",
    "\n",
    "\n",
    "def plot_hist(img):\n",
    "    \n",
    "    img_flat = img.flatten()\n",
    "    print(min(img_flat), max(img_flat))\n",
    "    \n",
    "    plt.hist(img_flat, bins=20, color='c')\n",
    "    plt.title(\"Data distribution\")\n",
    "    plt.xlabel(\"Pixel values\")\n",
    "    plt.grid(True)\n",
    "    plt.ylabel(\"Frequency\")\n",
    "    \n",
    "    plt.show()\n",
    "\n",
    "\n",
    "\n",
    "from keras import backend as K\n",
    "import tensorflow as tf\n",
    "\n",
    "\n",
    "# Define paths\n",
    "base_path = os.path.abspath(\"../\")\n",
    "# '/content/gdrive/My Drive/adversarial-xray/'\n",
    "dataset_path = os.path.join(base_path, \"dataset\", \"dataNumpy\")\n",
    "print(os.listdir(dataset_path))\n",
    "\n",
    "\n",
    "# Load data\n",
    "x_train = np.load(\"{}/x_upsampled.npy\".format(dataset_path)) \n",
    "y_train = np.load(\"{}/y_upsampled.npy\".format(dataset_path))\n",
    "x_test = np.load(\"{}/x_test.npy\".format(dataset_path))\n",
    "y_test = np.load(\"{}/y_test.npy\".format(dataset_path))\n",
    "\n",
    "\n",
    "# Shuffle training dataset\n",
    "flag = 1\n",
    "if flag == 1:\n",
    "    # Shuffle data\n",
    "    print(\"Shuffling data\")\n",
    "    s = np.arange(x_train.shape[0])\n",
    "    np.random.shuffle(s)\n",
    "    x_train = x_train[s]\n",
    "    y_train = y_train[s]\n",
    "else:\n",
    "    print(\"Not shuffling...\")\n",
    "    pass\n",
    "\n",
    "\n",
    "\n",
    "# Show shape\n",
    "print(\"Dataset sample size :\", x_train.shape, y_train.shape, x_test.shape, y_test.shape)\n",
    "\n",
    "\n",
    "# check on training data\n",
    "#img = x_train[0]\n",
    "#plot_hist(img)\n",
    "\n",
    "#plt.imshow(x_train[0])"
   ]
  },
  {
   "cell_type": "code",
   "execution_count": 4,
   "metadata": {
    "colab": {
     "base_uri": "https://localhost:8080/",
     "height": 51
    },
    "colab_type": "code",
    "executionInfo": {
     "elapsed": 703,
     "status": "ok",
     "timestamp": 1588450430649,
     "user": {
      "displayName": "Maria Mahbub",
      "photoUrl": "https://lh3.googleusercontent.com/a-/AOh14GiQyYlcc7Ts8pou2N_rxNtZawQminV0SA-tjYzK=s64",
      "userId": "18117529587993011390"
     },
     "user_tz": 240
    },
    "id": "Mkxe1Mp26ZQi",
    "outputId": "10325b6b-1d5c-4bb5-864c-a2d8d1ae8c91"
   },
   "outputs": [
    {
     "name": "stdout",
     "output_type": "stream",
     "text": [
      "Not preprocessing training data, already preprocessed in generator.\n",
      "(3219, 256, 256, 3) (580, 256, 256, 3)\n"
     ]
    }
   ],
   "source": [
    "import keras\n",
    "from keras.layers import Input\n",
    "\n",
    "# preprocessing\n",
    "prepro = False \n",
    "\n",
    "if prepro == True:\n",
    "    print(\"Preprocessing training data\")\n",
    "    x_train = x_train.astype('float32')\n",
    "    x_train /= 255\n",
    "else:\n",
    "    print(\"Not preprocessing training data, already preprocessed in generator.\")\n",
    "    pass\n",
    "\n",
    "# Standardize test set\n",
    "x_test = x_test.astype('float32')\n",
    "x_test /= 255\n",
    "\n",
    "print(x_train.shape, x_test.shape)\n",
    "\n",
    "# check on preprocessed data\n",
    "#img = x_test[0]\n",
    "#plot_hist(img)\n",
    "#plt.imshow(x_test[0])"
   ]
  },
  {
   "cell_type": "code",
   "execution_count": 5,
   "metadata": {
    "colab": {
     "base_uri": "https://localhost:8080/",
     "height": 1000
    },
    "colab_type": "code",
    "executionInfo": {
     "elapsed": 10665,
     "status": "ok",
     "timestamp": 1588450543828,
     "user": {
      "displayName": "Maria Mahbub",
      "photoUrl": "https://lh3.googleusercontent.com/a-/AOh14GiQyYlcc7Ts8pou2N_rxNtZawQminV0SA-tjYzK=s64",
      "userId": "18117529587993011390"
     },
     "user_tz": 240
    },
    "id": "teeONwaw6ZYa",
    "outputId": "2ee672c6-dbb0-42be-8d67-ae3a13faffa0"
   },
   "outputs": [
    {
     "name": "stdout",
     "output_type": "stream",
     "text": [
      "[1. 1. 1.]\n",
      "WARNING:tensorflow:From /tensorflow-1.15.2/python3.6/tensorflow_core/python/ops/resource_variable_ops.py:1630: calling BaseResourceVariable.__init__ (from tensorflow.python.ops.resource_variable_ops) with constraint is deprecated and will be removed in a future version.\n",
      "Instructions for updating:\n",
      "If using Keras pass *_constraint arguments to layers.\n",
      "WARNING:tensorflow:From /usr/local/lib/python3.6/dist-packages/keras/backend/tensorflow_backend.py:4070: The name tf.nn.max_pool is deprecated. Please use tf.nn.max_pool2d instead.\n",
      "\n",
      "Downloading data from https://github.com/fchollet/deep-learning-models/releases/download/v0.1/vgg16_weights_tf_dim_ordering_tf_kernels_notop.h5\n",
      "58892288/58889256 [==============================] - 2s 0us/step\n",
      "Model: \"model_1\"\n",
      "_________________________________________________________________\n",
      "Layer (type)                 Output Shape              Param #   \n",
      "=================================================================\n",
      "input_1 (InputLayer)         (None, 256, 256, 3)       0         \n",
      "_________________________________________________________________\n",
      "block1_conv1 (Conv2D)        (None, 256, 256, 64)      1792      \n",
      "_________________________________________________________________\n",
      "block1_conv2 (Conv2D)        (None, 256, 256, 64)      36928     \n",
      "_________________________________________________________________\n",
      "block1_pool (MaxPooling2D)   (None, 128, 128, 64)      0         \n",
      "_________________________________________________________________\n",
      "block2_conv1 (Conv2D)        (None, 128, 128, 128)     73856     \n",
      "_________________________________________________________________\n",
      "block2_conv2 (Conv2D)        (None, 128, 128, 128)     147584    \n",
      "_________________________________________________________________\n",
      "block2_pool (MaxPooling2D)   (None, 64, 64, 128)       0         \n",
      "_________________________________________________________________\n",
      "block3_conv1 (Conv2D)        (None, 64, 64, 256)       295168    \n",
      "_________________________________________________________________\n",
      "block3_conv2 (Conv2D)        (None, 64, 64, 256)       590080    \n",
      "_________________________________________________________________\n",
      "block3_conv3 (Conv2D)        (None, 64, 64, 256)       590080    \n",
      "_________________________________________________________________\n",
      "block3_pool (MaxPooling2D)   (None, 32, 32, 256)       0         \n",
      "_________________________________________________________________\n",
      "block4_conv1 (Conv2D)        (None, 32, 32, 512)       1180160   \n",
      "_________________________________________________________________\n",
      "block4_conv2 (Conv2D)        (None, 32, 32, 512)       2359808   \n",
      "_________________________________________________________________\n",
      "block4_conv3 (Conv2D)        (None, 32, 32, 512)       2359808   \n",
      "_________________________________________________________________\n",
      "block4_pool (MaxPooling2D)   (None, 16, 16, 512)       0         \n",
      "_________________________________________________________________\n",
      "block5_conv1 (Conv2D)        (None, 16, 16, 512)       2359808   \n",
      "_________________________________________________________________\n",
      "block5_conv2 (Conv2D)        (None, 16, 16, 512)       2359808   \n",
      "_________________________________________________________________\n",
      "block5_conv3 (Conv2D)        (None, 16, 16, 512)       2359808   \n",
      "_________________________________________________________________\n",
      "block5_pool (MaxPooling2D)   (None, 8, 8, 512)         0         \n",
      "_________________________________________________________________\n",
      "global_average_pooling2d_1 ( (None, 512)               0         \n",
      "_________________________________________________________________\n",
      "dense_1 (Dense)              (None, 3)                 1539      \n",
      "=================================================================\n",
      "Total params: 14,716,227\n",
      "Trainable params: 14,716,227\n",
      "Non-trainable params: 0\n",
      "_________________________________________________________________\n"
     ]
    }
   ],
   "source": [
    "# Experiment name\n",
    "EXP_NAME = \"results_after_GAN\"\n",
    "\n",
    "# Create folder for the experiment\n",
    "create_directory(\"{}/{}\".format(base_path, EXP_NAME))\n",
    "output_path = os.path.join(base_path, EXP_NAME)\n",
    "\n",
    "\n",
    "# Callbacks\n",
    "weights_path = \"{}/{}.h5\".format(output_path, EXP_NAME)\n",
    "checkpointer = ModelCheckpoint(filepath=weights_path, verbose=1, monitor='val_loss', save_best_only=True)\n",
    "reduce_lr = ReduceLROnPlateau(monitor='val_loss', factor=0.1, patience=5, verbose=1, min_lr=1e-8, mode='auto') # new_lr = lr * factor\n",
    "early_stopping = EarlyStopping(monitor='val_loss', min_delta=0, verbose=1, patience=8, mode='auto', restore_best_weights=True)\n",
    "csv_logger = CSVLogger('{}/{}_training.csv'.format(output_path, EXP_NAME))\n",
    "\n",
    "\n",
    "# Define class weights for imbalacned data\n",
    "from sklearn.utils import class_weight\n",
    "class_weights = class_weight.compute_class_weight(None, np.unique(np.argmax(y_train, axis=1)), np.argmax(y_train, axis=1))\n",
    "print(class_weights)\n",
    "\n",
    "\n",
    "def our_model():\n",
    "\n",
    "    # Get backbone network\n",
    "    input_tensor = Input(shape=(256, 256, 3))  \n",
    "\n",
    "    base_model = VGG16(input_tensor=input_tensor, weights='imagenet', include_top=False)\n",
    "\n",
    "    # Add GAP layer\n",
    "    x = keras.layers.GlobalAveragePooling2D()(base_model.output)\n",
    "    # Add FC layer\n",
    "    output = keras.layers.Dense(3, activation='softmax', trainable=True)(x) \n",
    "\n",
    "    # Build model\n",
    "    model = keras.models.Model(inputs=[base_model.input], outputs=[output])\n",
    "\n",
    "    # Optimizers\n",
    "    adadelta = optimizers.Adadelta(lr=0.001) \n",
    "\n",
    "    # Compile\n",
    "    model.compile(optimizer=adadelta, loss= 'categorical_crossentropy', metrics=['accuracy']) \n",
    "\n",
    "    # Output model configuration\n",
    "    model.summary()\n",
    "\n",
    "    return model\n",
    "\n",
    "\n",
    "model = None\n",
    "model = our_model()"
   ]
  },
  {
   "cell_type": "code",
   "execution_count": 7,
   "metadata": {
    "colab": {
     "base_uri": "https://localhost:8080/",
     "height": 1000
    },
    "colab_type": "code",
    "executionInfo": {
     "elapsed": 896631,
     "status": "ok",
     "timestamp": 1588451469315,
     "user": {
      "displayName": "Maria Mahbub",
      "photoUrl": "https://lh3.googleusercontent.com/a-/AOh14GiQyYlcc7Ts8pou2N_rxNtZawQminV0SA-tjYzK=s64",
      "userId": "18117529587993011390"
     },
     "user_tz": 240
    },
    "id": "F43HGExG6ZbU",
    "outputId": "51a6aefe-cf71-4370-f639-8034c340de3c"
   },
   "outputs": [
    {
     "name": "stdout",
     "output_type": "stream",
     "text": [
      "Train on 2060 samples, validate on 515 samples\n",
      "Epoch 1/100\n",
      "2060/2060 [==============================] - 22s 11ms/step - loss: 1.0600 - accuracy: 0.4655 - val_loss: 0.9171 - val_accuracy: 0.7709\n",
      "\n",
      "Epoch 00001: val_loss improved from inf to 0.91713, saving model to /content/gdrive/My Drive/adversarial-xray/results_after_GAN_p/results_after_GAN_p.h5\n",
      "Epoch 2/100\n",
      "2060/2060 [==============================] - 21s 10ms/step - loss: 0.7040 - accuracy: 0.8117 - val_loss: 0.4425 - val_accuracy: 0.8854\n",
      "\n",
      "Epoch 00002: val_loss improved from 0.91713 to 0.44248, saving model to /content/gdrive/My Drive/adversarial-xray/results_after_GAN_p/results_after_GAN_p.h5\n",
      "Epoch 3/100\n",
      "2060/2060 [==============================] - 21s 10ms/step - loss: 0.3813 - accuracy: 0.8646 - val_loss: 0.3847 - val_accuracy: 0.8621\n",
      "\n",
      "Epoch 00003: val_loss improved from 0.44248 to 0.38467, saving model to /content/gdrive/My Drive/adversarial-xray/results_after_GAN_p/results_after_GAN_p.h5\n",
      "Epoch 4/100\n",
      "2060/2060 [==============================] - 21s 10ms/step - loss: 0.2712 - accuracy: 0.9015 - val_loss: 0.2432 - val_accuracy: 0.9107\n",
      "\n",
      "Epoch 00004: val_loss improved from 0.38467 to 0.24323, saving model to /content/gdrive/My Drive/adversarial-xray/results_after_GAN_p/results_after_GAN_p.h5\n",
      "Epoch 5/100\n",
      "2060/2060 [==============================] - 21s 10ms/step - loss: 0.2209 - accuracy: 0.9301 - val_loss: 0.3092 - val_accuracy: 0.8777\n",
      "\n",
      "Epoch 00005: val_loss did not improve from 0.24323\n",
      "Epoch 6/100\n",
      "2060/2060 [==============================] - 21s 10ms/step - loss: 0.1866 - accuracy: 0.9437 - val_loss: 0.1755 - val_accuracy: 0.9398\n",
      "\n",
      "Epoch 00006: val_loss improved from 0.24323 to 0.17548, saving model to /content/gdrive/My Drive/adversarial-xray/results_after_GAN_p/results_after_GAN_p.h5\n",
      "Epoch 7/100\n",
      "2060/2060 [==============================] - 21s 10ms/step - loss: 0.1648 - accuracy: 0.9451 - val_loss: 0.1569 - val_accuracy: 0.9320\n",
      "\n",
      "Epoch 00007: val_loss improved from 0.17548 to 0.15692, saving model to /content/gdrive/My Drive/adversarial-xray/results_after_GAN_p/results_after_GAN_p.h5\n",
      "Epoch 8/100\n",
      "2060/2060 [==============================] - 21s 10ms/step - loss: 0.1490 - accuracy: 0.9495 - val_loss: 0.1442 - val_accuracy: 0.9437\n",
      "\n",
      "Epoch 00008: val_loss improved from 0.15692 to 0.14420, saving model to /content/gdrive/My Drive/adversarial-xray/results_after_GAN_p/results_after_GAN_p.h5\n",
      "Epoch 9/100\n",
      "2060/2060 [==============================] - 21s 10ms/step - loss: 0.1352 - accuracy: 0.9553 - val_loss: 0.1266 - val_accuracy: 0.9612\n",
      "\n",
      "Epoch 00009: val_loss improved from 0.14420 to 0.12656, saving model to /content/gdrive/My Drive/adversarial-xray/results_after_GAN_p/results_after_GAN_p.h5\n",
      "Epoch 10/100\n",
      "2060/2060 [==============================] - 21s 10ms/step - loss: 0.1291 - accuracy: 0.9621 - val_loss: 0.1262 - val_accuracy: 0.9515\n",
      "\n",
      "Epoch 00010: val_loss improved from 0.12656 to 0.12619, saving model to /content/gdrive/My Drive/adversarial-xray/results_after_GAN_p/results_after_GAN_p.h5\n",
      "Epoch 11/100\n",
      "2060/2060 [==============================] - 21s 10ms/step - loss: 0.1195 - accuracy: 0.9631 - val_loss: 0.1359 - val_accuracy: 0.9379\n",
      "\n",
      "Epoch 00011: val_loss did not improve from 0.12619\n",
      "Epoch 12/100\n",
      "2060/2060 [==============================] - 21s 10ms/step - loss: 0.1180 - accuracy: 0.9636 - val_loss: 0.1150 - val_accuracy: 0.9573\n",
      "\n",
      "Epoch 00012: val_loss improved from 0.12619 to 0.11501, saving model to /content/gdrive/My Drive/adversarial-xray/results_after_GAN_p/results_after_GAN_p.h5\n",
      "Epoch 13/100\n",
      "2060/2060 [==============================] - 21s 10ms/step - loss: 0.1103 - accuracy: 0.9641 - val_loss: 0.1344 - val_accuracy: 0.9456\n",
      "\n",
      "Epoch 00013: val_loss did not improve from 0.11501\n",
      "Epoch 14/100\n",
      "2060/2060 [==============================] - 21s 10ms/step - loss: 0.1058 - accuracy: 0.9660 - val_loss: 0.1086 - val_accuracy: 0.9612\n",
      "\n",
      "Epoch 00014: val_loss improved from 0.11501 to 0.10862, saving model to /content/gdrive/My Drive/adversarial-xray/results_after_GAN_p/results_after_GAN_p.h5\n",
      "Epoch 15/100\n",
      "2060/2060 [==============================] - 21s 10ms/step - loss: 0.0971 - accuracy: 0.9714 - val_loss: 0.1077 - val_accuracy: 0.9573\n",
      "\n",
      "Epoch 00015: val_loss improved from 0.10862 to 0.10769, saving model to /content/gdrive/My Drive/adversarial-xray/results_after_GAN_p/results_after_GAN_p.h5\n",
      "Epoch 16/100\n",
      "2060/2060 [==============================] - 21s 10ms/step - loss: 0.0966 - accuracy: 0.9714 - val_loss: 0.1414 - val_accuracy: 0.9379\n",
      "\n",
      "Epoch 00016: val_loss did not improve from 0.10769\n",
      "Epoch 17/100\n",
      "2060/2060 [==============================] - 21s 10ms/step - loss: 0.0944 - accuracy: 0.9699 - val_loss: 0.1049 - val_accuracy: 0.9573\n",
      "\n",
      "Epoch 00017: val_loss improved from 0.10769 to 0.10490, saving model to /content/gdrive/My Drive/adversarial-xray/results_after_GAN_p/results_after_GAN_p.h5\n",
      "Epoch 18/100\n",
      "2060/2060 [==============================] - 21s 10ms/step - loss: 0.0886 - accuracy: 0.9728 - val_loss: 0.1057 - val_accuracy: 0.9515\n",
      "\n",
      "Epoch 00018: val_loss did not improve from 0.10490\n",
      "Epoch 19/100\n",
      "2060/2060 [==============================] - 21s 10ms/step - loss: 0.0867 - accuracy: 0.9738 - val_loss: 0.1205 - val_accuracy: 0.9515\n",
      "\n",
      "Epoch 00019: val_loss did not improve from 0.10490\n",
      "Epoch 20/100\n",
      "2060/2060 [==============================] - 21s 10ms/step - loss: 0.0817 - accuracy: 0.9757 - val_loss: 0.1306 - val_accuracy: 0.9553\n",
      "\n",
      "Epoch 00020: val_loss did not improve from 0.10490\n",
      "Epoch 21/100\n",
      "2060/2060 [==============================] - 21s 10ms/step - loss: 0.0792 - accuracy: 0.9767 - val_loss: 0.0999 - val_accuracy: 0.9534\n",
      "\n",
      "Epoch 00021: val_loss improved from 0.10490 to 0.09991, saving model to /content/gdrive/My Drive/adversarial-xray/results_after_GAN_p/results_after_GAN_p.h5\n",
      "Epoch 22/100\n",
      "2060/2060 [==============================] - 21s 10ms/step - loss: 0.0791 - accuracy: 0.9748 - val_loss: 0.1217 - val_accuracy: 0.9515\n",
      "\n",
      "Epoch 00022: val_loss did not improve from 0.09991\n",
      "Epoch 23/100\n",
      "2060/2060 [==============================] - 21s 10ms/step - loss: 0.0717 - accuracy: 0.9782 - val_loss: 0.0973 - val_accuracy: 0.9612\n",
      "\n",
      "Epoch 00023: val_loss improved from 0.09991 to 0.09729, saving model to /content/gdrive/My Drive/adversarial-xray/results_after_GAN_p/results_after_GAN_p.h5\n",
      "Epoch 24/100\n",
      "2060/2060 [==============================] - 21s 10ms/step - loss: 0.0753 - accuracy: 0.9757 - val_loss: 0.1350 - val_accuracy: 0.9515\n",
      "\n",
      "Epoch 00024: val_loss did not improve from 0.09729\n",
      "Epoch 25/100\n",
      "2060/2060 [==============================] - 21s 10ms/step - loss: 0.0718 - accuracy: 0.9762 - val_loss: 0.1037 - val_accuracy: 0.9573\n",
      "\n",
      "Epoch 00025: val_loss did not improve from 0.09729\n",
      "Epoch 26/100\n",
      "2060/2060 [==============================] - 21s 10ms/step - loss: 0.0662 - accuracy: 0.9791 - val_loss: 0.1080 - val_accuracy: 0.9476\n",
      "\n",
      "Epoch 00026: val_loss did not improve from 0.09729\n",
      "Epoch 27/100\n",
      "2060/2060 [==============================] - 21s 10ms/step - loss: 0.0661 - accuracy: 0.9806 - val_loss: 0.0888 - val_accuracy: 0.9592\n",
      "\n",
      "Epoch 00027: val_loss improved from 0.09729 to 0.08878, saving model to /content/gdrive/My Drive/adversarial-xray/results_after_GAN_p/results_after_GAN_p.h5\n",
      "Epoch 28/100\n",
      "2060/2060 [==============================] - 21s 10ms/step - loss: 0.0646 - accuracy: 0.9791 - val_loss: 0.1530 - val_accuracy: 0.9476\n",
      "\n",
      "Epoch 00028: val_loss did not improve from 0.08878\n",
      "Epoch 29/100\n",
      "2060/2060 [==============================] - 21s 10ms/step - loss: 0.0638 - accuracy: 0.9806 - val_loss: 0.0914 - val_accuracy: 0.9592\n",
      "\n",
      "Epoch 00029: val_loss did not improve from 0.08878\n",
      "Epoch 30/100\n",
      "2060/2060 [==============================] - 21s 10ms/step - loss: 0.0634 - accuracy: 0.9806 - val_loss: 0.0915 - val_accuracy: 0.9631\n",
      "\n",
      "Epoch 00030: val_loss did not improve from 0.08878\n",
      "Epoch 31/100\n",
      "2060/2060 [==============================] - 21s 10ms/step - loss: 0.0596 - accuracy: 0.9825 - val_loss: 0.0929 - val_accuracy: 0.9592\n",
      "\n",
      "Epoch 00031: val_loss did not improve from 0.08878\n",
      "Epoch 32/100\n",
      "2060/2060 [==============================] - 21s 10ms/step - loss: 0.0562 - accuracy: 0.9820 - val_loss: 0.0935 - val_accuracy: 0.9631\n",
      "\n",
      "Epoch 00032: ReduceLROnPlateau reducing learning rate to 0.00010000000474974513.\n",
      "\n",
      "Epoch 00032: val_loss did not improve from 0.08878\n",
      "Epoch 33/100\n",
      "2060/2060 [==============================] - 21s 10ms/step - loss: 0.0494 - accuracy: 0.9859 - val_loss: 0.0862 - val_accuracy: 0.9612\n",
      "\n",
      "Epoch 00033: val_loss improved from 0.08878 to 0.08617, saving model to /content/gdrive/My Drive/adversarial-xray/results_after_GAN_p/results_after_GAN_p.h5\n",
      "Epoch 34/100\n",
      "2060/2060 [==============================] - 21s 10ms/step - loss: 0.0491 - accuracy: 0.9864 - val_loss: 0.0873 - val_accuracy: 0.9612\n",
      "\n",
      "Epoch 00034: val_loss did not improve from 0.08617\n",
      "Epoch 35/100\n",
      "2060/2060 [==============================] - 21s 10ms/step - loss: 0.0486 - accuracy: 0.9859 - val_loss: 0.0881 - val_accuracy: 0.9592\n",
      "\n",
      "Epoch 00035: val_loss did not improve from 0.08617\n",
      "Epoch 36/100\n",
      "2060/2060 [==============================] - 21s 10ms/step - loss: 0.0483 - accuracy: 0.9845 - val_loss: 0.0869 - val_accuracy: 0.9631\n",
      "\n",
      "Epoch 00036: val_loss did not improve from 0.08617\n",
      "Epoch 37/100\n",
      "2060/2060 [==============================] - 21s 10ms/step - loss: 0.0482 - accuracy: 0.9859 - val_loss: 0.0864 - val_accuracy: 0.9592\n",
      "\n",
      "Epoch 00037: val_loss did not improve from 0.08617\n",
      "Epoch 38/100\n",
      "2060/2060 [==============================] - 21s 10ms/step - loss: 0.0480 - accuracy: 0.9854 - val_loss: 0.0876 - val_accuracy: 0.9612\n",
      "\n",
      "Epoch 00038: ReduceLROnPlateau reducing learning rate to 1.0000000474974514e-05.\n",
      "\n",
      "Epoch 00038: val_loss did not improve from 0.08617\n",
      "Epoch 39/100\n",
      "2060/2060 [==============================] - 21s 10ms/step - loss: 0.0470 - accuracy: 0.9859 - val_loss: 0.0875 - val_accuracy: 0.9612\n",
      "\n",
      "Epoch 00039: val_loss did not improve from 0.08617\n",
      "Epoch 40/100\n",
      "2060/2060 [==============================] - 21s 10ms/step - loss: 0.0470 - accuracy: 0.9859 - val_loss: 0.0875 - val_accuracy: 0.9612\n",
      "\n",
      "Epoch 00040: val_loss did not improve from 0.08617\n",
      "Epoch 41/100\n",
      "2060/2060 [==============================] - 21s 10ms/step - loss: 0.0470 - accuracy: 0.9859 - val_loss: 0.0874 - val_accuracy: 0.9612\n",
      "Restoring model weights from the end of the best epoch\n",
      "\n",
      "Epoch 00041: val_loss did not improve from 0.08617\n",
      "Epoch 00041: early stopping\n",
      "--- Time taken to train : 0.0 hours ---\n"
     ]
    }
   ],
   "source": [
    "# Train the model\n",
    "from sklearn.model_selection import train_test_split\n",
    "x_train, x_val, y_train, y_val = train_test_split(x_train, y_train, test_size=0.20, random_state=42)\n",
    "\n",
    "# Configuration\n",
    "batch_size = 16\n",
    "epochs = 100 \n",
    "\n",
    "# Calculate the starting time    \n",
    "start_time = time.time()\n",
    "\n",
    "\n",
    "model.fit(x_train, y_train,\n",
    "            batch_size=batch_size,\n",
    "            epochs=epochs,\n",
    "            validation_data=(x_val, y_val),\n",
    "            class_weight = class_weights,\n",
    "            callbacks=[csv_logger, early_stopping, reduce_lr, checkpointer], # early_stopping, checkpointer, reduce_lr\n",
    "            shuffle=True)\n",
    "\n",
    "\n",
    "end_time = time.time()\n",
    "print(\"--- Time taken to train : %s hours ---\" % ((end_time - start_time)//3600))\n",
    "\n"
   ]
  },
  {
   "cell_type": "code",
   "execution_count": 0,
   "metadata": {
    "colab": {},
    "colab_type": "code",
    "id": "-T58Ud8BB-Fp"
   },
   "outputs": [],
   "source": [
    "# Save model\n",
    "model.save(weights_path)"
   ]
  },
  {
   "cell_type": "code",
   "execution_count": 0,
   "metadata": {
    "colab": {},
    "colab_type": "code",
    "id": "u9LqJZsphuPK"
   },
   "outputs": [],
   "source": [
    "# Experiment name\n",
    "EXP_NAME = \"results_after_GAN\"\n",
    "\n",
    "# Create folder for the experiment\n",
    "create_directory(\"{}/{}\".format(base_path, EXP_NAME))\n",
    "output_path = os.path.join(base_path, EXP_NAME)\n",
    "weights_path = \"{}/{}.h5\".format(output_path, EXP_NAME)\n",
    "\n",
    "model_after_GAN = tf.keras.models.load_model(weights_path, custom_objects={'focal_loss_fixed': focal_loss()})"
   ]
  },
  {
   "cell_type": "code",
   "execution_count": 0,
   "metadata": {
    "colab": {
     "base_uri": "https://localhost:8080/",
     "height": 34
    },
    "colab_type": "code",
    "executionInfo": {
     "elapsed": 914,
     "status": "ok",
     "timestamp": 1588378156804,
     "user": {
      "displayName": "Maria Mahbub",
      "photoUrl": "https://lh3.googleusercontent.com/a-/AOh14GiQyYlcc7Ts8pou2N_rxNtZawQminV0SA-tjYzK=s64",
      "userId": "18117529587993011390"
     },
     "user_tz": 240
    },
    "id": "aDLSrY-A4LjL",
    "outputId": "b3bd33d7-3f30-4855-ac39-b3258a926976"
   },
   "outputs": [
    {
     "name": "stdout",
     "output_type": "stream",
     "text": [
      "/content/gdrive/My Drive/adversarial-xray/results_after_GAN_p/results_after_GAN_p.h5\n"
     ]
    }
   ],
   "source": [
    "print(weights_path)"
   ]
  },
  {
   "cell_type": "code",
   "execution_count": 9,
   "metadata": {
    "colab": {
     "base_uri": "https://localhost:8080/",
     "height": 590
    },
    "colab_type": "code",
    "executionInfo": {
     "elapsed": 2858,
     "status": "ok",
     "timestamp": 1588451474278,
     "user": {
      "displayName": "Maria Mahbub",
      "photoUrl": "https://lh3.googleusercontent.com/a-/AOh14GiQyYlcc7Ts8pou2N_rxNtZawQminV0SA-tjYzK=s64",
      "userId": "18117529587993011390"
     },
     "user_tz": 240
    },
    "id": "bgktwrGEhwmr",
    "outputId": "542ebf59-181d-4bf8-be76-ee47979eaae8"
   },
   "outputs": [
    {
     "data": {
      "image/png": "[encoded data removed]",
      "text/plain": [
       "<Figure size 432x288 with 1 Axes>"
      ]
     },
     "metadata": {
      "needs_background": "light",
      "tags": []
     },
     "output_type": "display_data"
    },
    {
     "data": {
      "image/png": "[encoded data removed]",
      "text/plain": [
       "<Figure size 432x288 with 1 Axes>"
      ]
     },
     "metadata": {
      "needs_background": "light",
      "tags": []
     },
     "output_type": "display_data"
    },
    {
     "name": "stdout",
     "output_type": "stream",
     "text": [
      "Done training and logging!\n"
     ]
    }
   ],
   "source": [
    "# Plot and save accuravy and loss graphs individually\n",
    "def plot_loss_accu(history):\n",
    "    loss = history.history['loss']\n",
    "    val_loss = history.history['val_loss']\n",
    "    epochs = range(len(loss))\n",
    "    plt.plot(epochs, loss, 'g')\n",
    "    plt.plot(epochs, val_loss, 'y')\n",
    "    plt.title('Training and validation loss after CycleGAN')\n",
    "    plt.ylabel('Loss %')\n",
    "    plt.xlabel('Epoch')\n",
    "    plt.legend(['train', 'val'], loc='upper right')\n",
    "    plt.grid(True)\n",
    "    plt.savefig('{}/{}_loss.jpg'.format(output_path, EXP_NAME), dpi=100)\n",
    "    plt.show()\n",
    "    \n",
    "    loss = history.history['accuracy']\n",
    "    val_loss = history.history['val_accuracy']\n",
    "    epochs = range(len(loss))\n",
    "    plt.plot(epochs, loss, 'r')\n",
    "    plt.plot(epochs, val_loss, 'b')\n",
    "    plt.title('Training and validation accuracy after CycleGAN')\n",
    "    plt.ylabel('Accuracy %')\n",
    "    plt.xlabel('Epoch')\n",
    "    plt.legend(['train', 'val'], loc='lower right')\n",
    "    plt.grid(True)\n",
    "    plt.savefig('{}/{}_acc.jpg'.format(output_path, EXP_NAME), dpi=100)\n",
    "    plt.show()\n",
    "\n",
    "plot_loss_accu(model.history)\n",
    "print(\"Done training and logging!\")"
   ]
  },
  {
   "cell_type": "code",
   "execution_count": 10,
   "metadata": {
    "colab": {
     "base_uri": "https://localhost:8080/",
     "height": 34
    },
    "colab_type": "code",
    "executionInfo": {
     "elapsed": 2843,
     "status": "ok",
     "timestamp": 1588451474278,
     "user": {
      "displayName": "Maria Mahbub",
      "photoUrl": "https://lh3.googleusercontent.com/a-/AOh14GiQyYlcc7Ts8pou2N_rxNtZawQminV0SA-tjYzK=s64",
      "userId": "18117529587993011390"
     },
     "user_tz": 240
    },
    "id": "0Mwtf5Yehwqk",
    "outputId": "b77340ca-ae42-4556-9e69-0f9d12377d36"
   },
   "outputs": [
    {
     "name": "stdout",
     "output_type": "stream",
     "text": [
      "Shuffling data\n"
     ]
    }
   ],
   "source": [
    "# Shuffle testing dataset\n",
    "flag = 1\n",
    "if flag == 1:\n",
    "    # Shuffle data\n",
    "    print(\"Shuffling data\")\n",
    "    s = np.arange(x_test.shape[0])\n",
    "    np.random.shuffle(s)\n",
    "    x_test = x_test[s]\n",
    "    y_test = y_test[s]\n",
    "else:\n",
    "    print(\"Not shuffling...\")\n",
    "    pass"
   ]
  },
  {
   "cell_type": "code",
   "execution_count": 11,
   "metadata": {
    "colab": {
     "base_uri": "https://localhost:8080/",
     "height": 190
    },
    "colab_type": "code",
    "executionInfo": {
     "elapsed": 2836,
     "status": "ok",
     "timestamp": 1588451474280,
     "user": {
      "displayName": "Maria Mahbub",
      "photoUrl": "https://lh3.googleusercontent.com/a-/AOh14GiQyYlcc7Ts8pou2N_rxNtZawQminV0SA-tjYzK=s64",
      "userId": "18117529587993011390"
     },
     "user_tz": 240
    },
    "id": "bzXt7Rkjhwt1",
    "outputId": "481acbc6-ff9b-4ccf-82af-e0598bb81165"
   },
   "outputs": [
    {
     "name": "stdout",
     "output_type": "stream",
     "text": [
      "[[0. 0. 1.]\n",
      " [0. 0. 1.]\n",
      " [1. 0. 0.]\n",
      " ...\n",
      " [0. 0. 1.]\n",
      " [0. 0. 1.]\n",
      " [1. 0. 0.]]\n",
      "[2, 2, 0, 2, 2, 2, 0, 1, 0, 0, 2, 2, 2, 0, 0, 2, 2, 1, 2, 0, 2, 2, 0, 0, 2, 0, 2, 2, 2, 2, 2, 0, 2, 2, 2, 0, 1, 0, 2, 0, 2, 2, 2, 2, 2, 2, 2, 0, 0, 2, 0, 2, 2, 0, 0, 2, 0, 2, 0, 2, 2, 2, 0, 0, 1, 0, 2, 1, 0, 0, 0, 2, 2, 0, 2, 0, 0, 0, 0, 2, 1, 2, 2, 2, 2, 2, 1, 0, 1, 1, 0, 0, 2, 0, 0, 0, 0, 2, 1, 2, 0, 0, 0, 2, 0, 2, 2, 2, 0, 0, 2, 2, 2, 2, 2, 0, 0, 0, 2, 1, 2, 0, 1, 0, 0, 2, 0, 0, 2, 0, 0, 0, 0, 2, 0, 2, 2, 0, 2, 0, 0, 1, 0, 2, 2, 0, 0, 2, 2, 1, 0, 2, 0, 0, 0, 2, 0, 0, 0, 0, 0, 1, 1, 0, 0, 2, 0, 2, 0, 0, 0, 0, 2, 2, 2, 2, 0, 2, 2, 0, 2, 0, 0, 2, 0, 0, 0, 2, 0, 2, 0, 0, 0, 2, 0, 0, 2, 2, 1, 0, 1, 2, 0, 2, 1, 2, 0, 2, 2, 0, 0, 2, 2, 2, 2, 1, 0, 0, 0, 0, 0, 2, 0, 0, 0, 2, 2, 0, 0, 0, 2, 0, 1, 2, 2, 2, 0, 2, 0, 2, 2, 0, 2, 0, 2, 2, 0, 2, 2, 2, 2, 0, 1, 0, 0, 0, 2, 0, 0, 0, 0, 0, 2, 2, 0, 0, 0, 2, 0, 0, 0, 2, 0, 0, 2, 0, 0, 1, 0, 2, 0, 2, 1, 2, 2, 0, 2, 2, 2, 0, 2, 1, 2, 2, 0, 2, 0, 1, 2, 1, 2, 0, 0, 0, 2, 2, 2, 2, 2, 2, 1, 0, 2, 0, 0, 2, 2, 1, 0, 0, 2, 0, 0, 0, 2, 0, 0, 2, 0, 2, 0, 2, 2, 0, 2, 2, 2, 2, 0, 2, 1, 0, 1, 2, 2, 0, 2, 2, 2, 1, 2, 2, 2, 0, 2, 0, 0, 0, 0, 2, 0, 0, 0, 2, 0, 0, 0, 2, 2, 0, 2, 0, 0, 0, 2, 2, 0, 0, 2, 0, 0, 2, 0, 2, 2, 0, 0, 2, 2, 2, 2, 2, 0, 1, 0, 0, 0, 0, 2, 2, 0, 2, 2, 1, 0, 2, 2, 0, 2, 2, 0, 2, 0, 2, 2, 0, 2, 2, 2, 0, 2, 0, 0, 2, 0, 2, 1, 2, 0, 0, 2, 2, 2, 0, 0, 2, 2, 2, 2, 2, 0, 2, 0, 0, 2, 0, 0, 2, 2, 2, 0, 1, 0, 0, 2, 0, 2, 0, 2, 1, 0, 2, 0, 0, 2, 0, 0, 0, 2, 0, 0, 0, 0, 2, 0, 0, 2, 0, 0, 0, 2, 0, 0, 2, 1, 2, 2, 0, 0, 2, 0, 0, 2, 2, 0, 2, 2, 0, 2, 0, 2, 0, 0, 0, 0, 2, 0, 0, 0, 0, 2, 2, 0, 0, 2, 0, 2, 2, 2, 1, 2, 2, 1, 2, 0, 2, 2, 0, 2, 2, 2, 0, 2, 2, 2, 2, 2, 0, 0, 2, 0, 0, 2, 0, 1, 0, 2, 0, 0, 0, 0, 0, 0, 0, 2, 2, 0, 0, 0, 2, 2, 2, 2, 2, 2, 0, 0, 2, 2, 0, 1, 2, 1, 2, 2, 2, 1, 2, 2, 0]\n",
      "580\n"
     ]
    }
   ],
   "source": [
    "# convert one-hot-encoding to numeric labels\n",
    "y_true = []\n",
    "for i in range(len(y_test)):\n",
    "    y_true.append(np.argmax(y_test[i], axis=None, out=None))\n",
    "# print(y_true)\n"
   ]
  },
  {
   "cell_type": "code",
   "execution_count": 12,
   "metadata": {
    "colab": {
     "base_uri": "https://localhost:8080/",
     "height": 54
    },
    "colab_type": "code",
    "executionInfo": {
     "elapsed": 7072,
     "status": "ok",
     "timestamp": 1588451478525,
     "user": {
      "displayName": "Maria Mahbub",
      "photoUrl": "https://lh3.googleusercontent.com/a-/AOh14GiQyYlcc7Ts8pou2N_rxNtZawQminV0SA-tjYzK=s64",
      "userId": "18117529587993011390"
     },
     "user_tz": 240
    },
    "id": "9Syq0CoQhwxk",
    "outputId": "ad12d890-19af-4bc3-ed16-6b4b4cd2bea1"
   },
   "outputs": [
    {
     "name": "stdout",
     "output_type": "stream",
     "text": [
      "[2, 2, 0, 0, 2, 2, 0, 0, 0, 0, 2, 2, 2, 0, 0, 2, 2, 1, 2, 0, 2, 2, 0, 0, 2, 0, 2, 2, 2, 2, 2, 0, 2, 2, 2, 0, 1, 0, 2, 0, 2, 2, 2, 2, 2, 2, 2, 0, 0, 2, 0, 2, 2, 0, 0, 2, 2, 2, 0, 2, 2, 2, 0, 0, 1, 0, 2, 1, 0, 0, 0, 2, 2, 0, 2, 0, 0, 0, 0, 2, 1, 2, 2, 2, 2, 2, 1, 0, 1, 1, 0, 0, 2, 0, 0, 0, 0, 2, 1, 2, 0, 0, 0, 2, 0, 2, 2, 2, 0, 0, 2, 2, 2, 2, 2, 0, 0, 0, 2, 1, 2, 0, 1, 0, 0, 2, 0, 0, 2, 0, 0, 0, 0, 2, 0, 2, 2, 0, 0, 0, 0, 1, 0, 2, 2, 0, 0, 2, 2, 1, 0, 2, 0, 0, 0, 2, 0, 0, 0, 0, 0, 1, 1, 0, 0, 1, 0, 0, 0, 0, 0, 0, 2, 2, 2, 2, 0, 2, 2, 0, 0, 0, 0, 2, 0, 0, 0, 2, 0, 2, 0, 0, 0, 2, 0, 0, 2, 2, 1, 0, 1, 2, 0, 2, 1, 2, 0, 2, 2, 0, 0, 2, 2, 2, 2, 1, 0, 2, 0, 0, 0, 2, 0, 0, 0, 2, 2, 0, 0, 0, 2, 0, 1, 2, 2, 0, 0, 2, 0, 2, 2, 0, 2, 0, 2, 2, 0, 2, 2, 1, 0, 0, 1, 0, 0, 0, 2, 0, 0, 0, 0, 0, 2, 0, 0, 0, 0, 2, 0, 0, 0, 2, 0, 0, 2, 0, 0, 1, 0, 2, 0, 2, 1, 2, 2, 0, 2, 2, 2, 0, 2, 1, 2, 2, 0, 2, 0, 2, 2, 1, 2, 0, 0, 0, 2, 2, 0, 2, 2, 2, 1, 0, 2, 0, 0, 2, 2, 1, 0, 0, 2, 0, 0, 0, 2, 0, 0, 2, 0, 0, 0, 2, 2, 0, 2, 2, 2, 2, 0, 2, 1, 0, 1, 2, 2, 0, 0, 2, 0, 1, 2, 2, 2, 0, 2, 0, 0, 0, 2, 2, 0, 0, 0, 2, 0, 0, 0, 2, 2, 0, 2, 0, 0, 0, 2, 2, 0, 0, 2, 0, 0, 2, 0, 2, 2, 0, 0, 2, 2, 2, 2, 2, 0, 1, 0, 0, 0, 0, 2, 2, 0, 2, 2, 1, 0, 2, 2, 0, 2, 2, 0, 2, 0, 2, 2, 0, 2, 2, 2, 0, 2, 0, 0, 2, 0, 2, 1, 2, 0, 0, 2, 2, 2, 0, 0, 2, 2, 2, 2, 2, 0, 2, 0, 2, 2, 0, 0, 2, 2, 2, 0, 1, 0, 0, 2, 0, 2, 0, 2, 1, 0, 2, 0, 0, 2, 0, 0, 0, 2, 0, 0, 0, 0, 2, 0, 0, 2, 0, 0, 0, 1, 0, 0, 2, 1, 2, 2, 0, 0, 2, 0, 0, 2, 2, 0, 2, 2, 0, 2, 0, 2, 0, 0, 0, 0, 2, 0, 0, 0, 0, 2, 2, 0, 0, 2, 0, 2, 2, 2, 1, 2, 2, 1, 2, 0, 2, 2, 0, 2, 2, 2, 0, 2, 2, 2, 2, 2, 0, 0, 2, 0, 0, 2, 0, 2, 0, 2, 0, 0, 0, 0, 0, 0, 0, 2, 2, 0, 0, 0, 2, 2, 0, 2, 2, 2, 0, 0, 2, 2, 0, 1, 2, 1, 2, 2, 2, 1, 2, 2, 0]\n"
     ]
    }
   ],
   "source": [
    "# do predictions\n",
    "y_pred = []\n",
    "for i in range(len(x_test)):\n",
    "    img = x_test[i].reshape(1, 256, 256, 3)\n",
    "    # print(img.shape)\n",
    "    pred_prob = model.predict(img)\n",
    "    # print(pred_prob)\n",
    "    # convert the probabilities to class labels\n",
    "    y_pred.append(np.argmax(pred_prob, axis=None, out=None))\n",
    "print(y_pred)"
   ]
  },
  {
   "cell_type": "code",
   "execution_count": 13,
   "metadata": {
    "colab": {
     "base_uri": "https://localhost:8080/",
     "height": 238
    },
    "colab_type": "code",
    "executionInfo": {
     "elapsed": 7066,
     "status": "ok",
     "timestamp": 1588451478526,
     "user": {
      "displayName": "Maria Mahbub",
      "photoUrl": "https://lh3.googleusercontent.com/a-/AOh14GiQyYlcc7Ts8pou2N_rxNtZawQminV0SA-tjYzK=s64",
      "userId": "18117529587993011390"
     },
     "user_tz": 240
    },
    "id": "tuJKELcth2K2",
    "outputId": "949b7909-40a7-4cc1-bb44-ecbdb178c716"
   },
   "outputs": [
    {
     "name": "stdout",
     "output_type": "stream",
     "text": [
      "[[264   0   4]\n",
      " [  1  41   2]\n",
      " [ 12   3 253]]\n",
      "              precision    recall  f1-score   support\n",
      "\n",
      "           0       0.95      0.99      0.97       268\n",
      "           1       0.93      0.93      0.93        44\n",
      "           2       0.98      0.94      0.96       268\n",
      "\n",
      "    accuracy                           0.96       580\n",
      "   macro avg       0.95      0.95      0.95       580\n",
      "weighted avg       0.96      0.96      0.96       580\n",
      "\n"
     ]
    }
   ],
   "source": [
    "# Importing the dependancies\n",
    "from sklearn import metrics\n",
    "# Printing the confusion matrix\n",
    "print(metrics.confusion_matrix(y_true, y_pred))\n",
    "# Printing the precision and recall, among other metrics\n",
    "print(metrics.classification_report(y_true, y_pred))\n"
   ]
  },
  {
   "cell_type": "code",
   "execution_count": 0,
   "metadata": {
    "colab": {},
    "colab_type": "code",
    "id": "ZhExzAhWbj-Z"
   },
   "outputs": [],
   "source": [
    "import numpy as np\n",
    "\n",
    "\n",
    "def plot_confusion_matrix(cm,\n",
    "                          target_names,\n",
    "                          title='Confusion matrix',\n",
    "                          cmap=None,\n",
    "                          normalize=True):\n",
    "    \"\"\"\n",
    "    given a sklearn confusion matrix (cm), make a nice plot\n",
    "\n",
    "    Arguments\n",
    "    ---------\n",
    "    cm:           confusion matrix from sklearn.metrics.confusion_matrix\n",
    "\n",
    "    target_names: given classification classes such as [0, 1, 2]\n",
    "                  the class names, for example: ['high', 'medium', 'low']\n",
    "\n",
    "    title:        the text to display at the top of the matrix\n",
    "\n",
    "    cmap:         the gradient of the values displayed from matplotlib.pyplot.cm\n",
    "                  see http://matplotlib.org/examples/color/colormaps_reference.html\n",
    "                  plt.get_cmap('jet') or plt.cm.Blues\n",
    "\n",
    "    normalize:    If False, plot the raw numbers\n",
    "                  If True, plot the proportions\n",
    "\n",
    "    Usage\n",
    "    -----\n",
    "    plot_confusion_matrix(cm           = cm,                  # confusion matrix created by\n",
    "                                                              # sklearn.metrics.confusion_matrix\n",
    "                          normalize    = True,                # show proportions\n",
    "                          target_names = y_labels_vals,       # list of names of the classes\n",
    "                          title        = best_estimator_name) # title of graph\n",
    "\n",
    "    Citiation\n",
    "    ---------\n",
    "    http://scikit-learn.org/stable/auto_examples/model_selection/plot_confusion_matrix.html\n",
    "\n",
    "    \"\"\"\n",
    "    import matplotlib.pyplot as plt\n",
    "    import numpy as np\n",
    "    import itertools\n",
    "\n",
    "    accuracy = np.trace(cm) / float(np.sum(cm))\n",
    "    misclass = 1 - accuracy\n",
    "\n",
    "    if cmap is None:\n",
    "        cmap = plt.get_cmap('Blues')\n",
    "\n",
    "    plt.figure(figsize=(8, 6))\n",
    "    plt.imshow(cm, interpolation='nearest', cmap=cmap)\n",
    "    plt.title(title)\n",
    "    plt.colorbar()\n",
    "\n",
    "    if target_names is not None:\n",
    "        tick_marks = np.arange(len(target_names))\n",
    "        plt.xticks(tick_marks, target_names, rotation=45)\n",
    "        plt.yticks(tick_marks, target_names)\n",
    "\n",
    "    if normalize:\n",
    "        cm = cm.astype('float') / cm.sum(axis=1)[:, np.newaxis]\n",
    "\n",
    "\n",
    "    thresh = cm.max() / 1.5 if normalize else cm.max() / 2\n",
    "    for i, j in itertools.product(range(cm.shape[0]), range(cm.shape[1])):\n",
    "        if normalize:\n",
    "            plt.text(j, i, \"{:0.4f}\".format(cm[i, j]),\n",
    "                     horizontalalignment=\"center\",\n",
    "                     color=\"white\" if cm[i, j] > thresh else \"black\")\n",
    "        else:\n",
    "            plt.text(j, i, \"{:,}\".format(cm[i, j]),\n",
    "                     horizontalalignment=\"center\",\n",
    "                     color=\"white\" if cm[i, j] > thresh else \"black\")\n",
    "\n",
    "\n",
    "    plt.tight_layout()\n",
    "    plt.ylabel('True label')\n",
    "    plt.xlabel('Predicted label\\naccuracy={:0.4f}; misclass={:0.4f}'.format(accuracy, misclass))\n",
    "    plt.savefig('{}/{}_cm.jpeg'.format(output_path, EXP_NAME), dpi=300)\n",
    "    plt.show()\n"
   ]
  },
  {
   "cell_type": "code",
   "execution_count": 15,
   "metadata": {
    "colab": {
     "base_uri": "https://localhost:8080/",
     "height": 467
    },
    "colab_type": "code",
    "executionInfo": {
     "elapsed": 7878,
     "status": "ok",
     "timestamp": 1588451479349,
     "user": {
      "displayName": "Maria Mahbub",
      "photoUrl": "https://lh3.googleusercontent.com/a-/AOh14GiQyYlcc7Ts8pou2N_rxNtZawQminV0SA-tjYzK=s64",
      "userId": "18117529587993011390"
     },
     "user_tz": 240
    },
    "id": "wgHXiq39bkoF",
    "outputId": "a6f411a1-b1ad-45fa-f38e-f008028bc24a"
   },
   "outputs": [
    {
     "data": {
      "image/png": "[encoded data removed]",
      "text/plain": [
       "<Figure size 576x432 with 2 Axes>"
      ]
     },
     "metadata": {
      "needs_background": "light",
      "tags": []
     },
     "output_type": "display_data"
    }
   ],
   "source": [
    "cm = metrics.confusion_matrix(y_true, y_pred)\n",
    "plot_confusion_matrix(cm, \n",
    "                      normalize    = False,\n",
    "                      target_names = ['NORMAL', 'COVID-19', 'PNEUMONIA'],\n",
    "                      title        = \"Confusion Matrix\")\n"
   ]
  },
  {
   "cell_type": "code",
   "execution_count": 0,
   "metadata": {
    "colab": {},
    "colab_type": "code",
    "id": "ZlFVR1hA3Wxn"
   },
   "outputs": [],
   "source": []
  }
 ],
 "metadata": {
  "colab": {
   "collapsed_sections": [],
   "name": "train_after_GAN.ipynb",
   "provenance": []
  },
  "kernelspec": {
   "display_name": "Python 3",
   "language": "python",
   "name": "python3"
  },
  "language_info": {
   "codemirror_mode": {
    "name": "ipython",
    "version": 3
   },
   "file_extension": ".py",
   "mimetype": "text/x-python",
   "name": "python",
   "nbconvert_exporter": "python",
   "pygments_lexer": "ipython3",
   "version": "3.7.3"
  }
 },
 "nbformat": 4,
 "nbformat_minor": 1
}
